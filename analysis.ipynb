{
 "cells": [
  {
   "cell_type": "markdown",
   "id": "065c8ce3",
   "metadata": {},
   "source": [
    "***\n",
    "***\n",
    "***"
   ]
  },
  {
   "cell_type": "markdown",
   "id": "9faa3cd1",
   "metadata": {},
   "source": [
    "# <font color='darkgreen'>VERİYE GENEL BAKIŞ</font>\n"
   ]
  },
  {
   "cell_type": "markdown",
   "id": "36806810",
   "metadata": {},
   "source": [
    "***\n",
    "***\n",
    "***"
   ]
  },
  {
   "cell_type": "code",
   "execution_count": 9,
   "id": "c6e24ffe",
   "metadata": {},
   "outputs": [],
   "source": [
    "import pandas as pd\n",
    "import numpy as np "
   ]
  },
  {
   "cell_type": "code",
   "execution_count": 10,
   "id": "ead215ba",
   "metadata": {},
   "outputs": [],
   "source": [
    "data= pd.read_csv(\"tweetset.csv\",encoding=\"windows-1254\")"
   ]
  },
  {
   "cell_type": "code",
   "execution_count": 11,
   "id": "e2deee2e",
   "metadata": {},
   "outputs": [],
   "source": [
    "data= data[[\"Tip\",\"Paylaşım\"]]"
   ]
  },
  {
   "cell_type": "code",
   "execution_count": 12,
   "id": "8c6babeb",
   "metadata": {},
   "outputs": [],
   "source": [
    "data.replace(to_replace= \" Negatif\", value = \"Negatif\", inplace=True )\n",
    "# \" Negatif\" şeklinde olan bir tane değer vardı, düzeltildi."
   ]
  },
  {
   "cell_type": "code",
   "execution_count": 13,
   "id": "c8cab020",
   "metadata": {},
   "outputs": [
    {
     "data": {
      "text/html": [
       "<div>\n",
       "<style scoped>\n",
       "    .dataframe tbody tr th:only-of-type {\n",
       "        vertical-align: middle;\n",
       "    }\n",
       "\n",
       "    .dataframe tbody tr th {\n",
       "        vertical-align: top;\n",
       "    }\n",
       "\n",
       "    .dataframe thead th {\n",
       "        text-align: right;\n",
       "    }\n",
       "</style>\n",
       "<table border=\"1\" class=\"dataframe\">\n",
       "  <thead>\n",
       "    <tr style=\"text-align: right;\">\n",
       "      <th></th>\n",
       "      <th>Tip</th>\n",
       "      <th>Paylaşım</th>\n",
       "    </tr>\n",
       "  </thead>\n",
       "  <tbody>\n",
       "    <tr>\n",
       "      <th>0</th>\n",
       "      <td>Negatif</td>\n",
       "      <td>Doğa ağzımıza sıçsa hakkı var</td>\n",
       "    </tr>\n",
       "    <tr>\n",
       "      <th>1</th>\n",
       "      <td>Pozitif</td>\n",
       "      <td>Anne bir sanatçıdır, en güzel eseri de yavrusu...</td>\n",
       "    </tr>\n",
       "    <tr>\n",
       "      <th>2</th>\n",
       "      <td>Negatif</td>\n",
       "      <td>ibrahimin oğlunu koruyan Tanrı’ya da ben sokayım</td>\n",
       "    </tr>\n",
       "    <tr>\n",
       "      <th>3</th>\n",
       "      <td>Negatif</td>\n",
       "      <td>Köpeğim suratına sıçsın senin namussuz karı</td>\n",
       "    </tr>\n",
       "    <tr>\n",
       "      <th>4</th>\n",
       "      <td>Negatif</td>\n",
       "      <td>Ben söğüşledim, birazda sen söğüşle</td>\n",
       "    </tr>\n",
       "    <tr>\n",
       "      <th>5</th>\n",
       "      <td>Negatif</td>\n",
       "      <td>Şerefsizlik, sözde sanatçıların vazgeçemediği ...</td>\n",
       "    </tr>\n",
       "    <tr>\n",
       "      <th>6</th>\n",
       "      <td>Negatif</td>\n",
       "      <td>Kendisi de bilmiyordur çünkü beyinsiz</td>\n",
       "    </tr>\n",
       "    <tr>\n",
       "      <th>7</th>\n",
       "      <td>Negatif</td>\n",
       "      <td>aşırı bıyıklı geleneksel keko adam, bi ayrılıp...</td>\n",
       "    </tr>\n",
       "    <tr>\n",
       "      <th>8</th>\n",
       "      <td>Pozitif</td>\n",
       "      <td>En uzun yolculuklar bile, tek bir adımla başla...</td>\n",
       "    </tr>\n",
       "    <tr>\n",
       "      <th>9</th>\n",
       "      <td>Pozitif</td>\n",
       "      <td>Vallahi bu aralar istediğimiz tek şey huzur</td>\n",
       "    </tr>\n",
       "    <tr>\n",
       "      <th>10</th>\n",
       "      <td>Pozitif</td>\n",
       "      <td>CHP Genel Başkanı Kemal Kılıçdaroğlu'nun eşi S...</td>\n",
       "    </tr>\n",
       "    <tr>\n",
       "      <th>11</th>\n",
       "      <td>Pozitif</td>\n",
       "      <td>Beyin göçünü engellemeye çalıştığımız gençlere...</td>\n",
       "    </tr>\n",
       "    <tr>\n",
       "      <th>12</th>\n",
       "      <td>Pozitif</td>\n",
       "      <td>Doğa ana bu kullanılmayan depoyu devralıyor</td>\n",
       "    </tr>\n",
       "    <tr>\n",
       "      <th>13</th>\n",
       "      <td>Pozitif</td>\n",
       "      <td>Tarlasını çekerken beni niye çekmedin diye söy...</td>\n",
       "    </tr>\n",
       "    <tr>\n",
       "      <th>14</th>\n",
       "      <td>Negatif</td>\n",
       "      <td>babaannesini seven yoktur heralde anneanneler ...</td>\n",
       "    </tr>\n",
       "    <tr>\n",
       "      <th>15</th>\n",
       "      <td>Pozitif</td>\n",
       "      <td>Merhaba, konuyla ilgili yardımcı olmak isteriz...</td>\n",
       "    </tr>\n",
       "    <tr>\n",
       "      <th>16</th>\n",
       "      <td>Pozitif</td>\n",
       "      <td>Nietzsche Böyle Buyurdu Zerdüşt’te; \"Ama önce ...</td>\n",
       "    </tr>\n",
       "    <tr>\n",
       "      <th>17</th>\n",
       "      <td>Pozitif</td>\n",
       "      <td>Hiçbir şey harekete geçen cehalet kadar korkun...</td>\n",
       "    </tr>\n",
       "    <tr>\n",
       "      <th>18</th>\n",
       "      <td>Pozitif</td>\n",
       "      <td>Yine birileri bazı değişimlerin tadını çıkarma...</td>\n",
       "    </tr>\n",
       "    <tr>\n",
       "      <th>19</th>\n",
       "      <td>Pozitif</td>\n",
       "      <td>\"stanley parable diye bir oyun var abi sevebil...</td>\n",
       "    </tr>\n",
       "    <tr>\n",
       "      <th>20</th>\n",
       "      <td>Pozitif</td>\n",
       "      <td>\"Seni kitap okuyan insanlarla tanıştıracağım. ...</td>\n",
       "    </tr>\n",
       "    <tr>\n",
       "      <th>21</th>\n",
       "      <td>Pozitif</td>\n",
       "      <td>Yaptığım en başarılı aktivite uyumak.</td>\n",
       "    </tr>\n",
       "    <tr>\n",
       "      <th>22</th>\n",
       "      <td>Negatif</td>\n",
       "      <td>Kim demiş iyilerle kötüler belli değil diye;it...</td>\n",
       "    </tr>\n",
       "    <tr>\n",
       "      <th>23</th>\n",
       "      <td>Negatif</td>\n",
       "      <td>Hiç bir faydası olmayan, zararı olan, saray so...</td>\n",
       "    </tr>\n",
       "    <tr>\n",
       "      <th>24</th>\n",
       "      <td>Negatif</td>\n",
       "      <td>Ulan yanan alevi yakan alevi bugün temel ile a...</td>\n",
       "    </tr>\n",
       "    <tr>\n",
       "      <th>25</th>\n",
       "      <td>Negatif</td>\n",
       "      <td>Defol git lan, ölüye saygın yok anladık bari A...</td>\n",
       "    </tr>\n",
       "    <tr>\n",
       "      <th>26</th>\n",
       "      <td>Pozitif</td>\n",
       "      <td>2018'den bu yana formamızı terleten, sadece ba...</td>\n",
       "    </tr>\n",
       "    <tr>\n",
       "      <th>27</th>\n",
       "      <td>Negatif</td>\n",
       "      <td>Kanka ben netflix sayesinde ingilizce ogreniyo...</td>\n",
       "    </tr>\n",
       "    <tr>\n",
       "      <th>28</th>\n",
       "      <td>Negatif</td>\n",
       "      <td>Öldürür bu</td>\n",
       "    </tr>\n",
       "    <tr>\n",
       "      <th>29</th>\n",
       "      <td>Pozitif</td>\n",
       "      <td>O zaman para vermeyeceksin kardeşim. He demek ...</td>\n",
       "    </tr>\n",
       "    <tr>\n",
       "      <th>30</th>\n",
       "      <td>Negatif</td>\n",
       "      <td>Gay düsmani mustafa</td>\n",
       "    </tr>\n",
       "    <tr>\n",
       "      <th>31</th>\n",
       "      <td>Pozitif</td>\n",
       "      <td>Neden? İzlemek istemeyen abone olmaz. Açık sah...</td>\n",
       "    </tr>\n",
       "    <tr>\n",
       "      <th>32</th>\n",
       "      <td>Negatif</td>\n",
       "      <td>izleme o zaman dalyrak</td>\n",
       "    </tr>\n",
       "    <tr>\n",
       "      <th>33</th>\n",
       "      <td>Negatif</td>\n",
       "      <td>Türk televizyon dizileri: Tecavüz, kadına şidd...</td>\n",
       "    </tr>\n",
       "    <tr>\n",
       "      <th>34</th>\n",
       "      <td>Negatif</td>\n",
       "      <td>İzleme be amına kodumun koyunu seni</td>\n",
       "    </tr>\n",
       "    <tr>\n",
       "      <th>35</th>\n",
       "      <td>Negatif</td>\n",
       "      <td>Fiyatı mı fazla geldi gerizekalı</td>\n",
       "    </tr>\n",
       "    <tr>\n",
       "      <th>36</th>\n",
       "      <td>Negatif</td>\n",
       "      <td>ezik orospu evladi izleyen ister ucretli bir u...</td>\n",
       "    </tr>\n",
       "    <tr>\n",
       "      <th>37</th>\n",
       "      <td>Negatif</td>\n",
       "      <td>İzleme ozaman yarram bi karı görsen düz yokuşa...</td>\n",
       "    </tr>\n",
       "    <tr>\n",
       "      <th>38</th>\n",
       "      <td>Negatif</td>\n",
       "      <td>Zehirin aktığı yer sizin beyniniz ve ağzınız a...</td>\n",
       "    </tr>\n",
       "    <tr>\n",
       "      <th>39</th>\n",
       "      <td>Negatif</td>\n",
       "      <td>Hayatında hiç para vermeden seks yapmamış, çev...</td>\n",
       "    </tr>\n",
       "    <tr>\n",
       "      <th>40</th>\n",
       "      <td>Negatif</td>\n",
       "      <td>Aq ayık gezmezler her bulduğunu skerler abazal...</td>\n",
       "    </tr>\n",
       "    <tr>\n",
       "      <th>41</th>\n",
       "      <td>Negatif</td>\n",
       "      <td>sus lan yavşak   izleme götüm zaten siz fakirl...</td>\n",
       "    </tr>\n",
       "    <tr>\n",
       "      <th>42</th>\n",
       "      <td>Negatif</td>\n",
       "      <td>satın almayın amk</td>\n",
       "    </tr>\n",
       "    <tr>\n",
       "      <th>43</th>\n",
       "      <td>Pozitif</td>\n",
       "      <td>Bir dur da dinle ademoğlu nasıl geldin nasıl g...</td>\n",
       "    </tr>\n",
       "    <tr>\n",
       "      <th>44</th>\n",
       "      <td>Pozitif</td>\n",
       "      <td>Hepsinin ötesinde, bu baskıcı dönemde alınan t...</td>\n",
       "    </tr>\n",
       "    <tr>\n",
       "      <th>45</th>\n",
       "      <td>Negatif</td>\n",
       "      <td>Motorsikletin yanından geçen motorcu oluyor am...</td>\n",
       "    </tr>\n",
       "    <tr>\n",
       "      <th>46</th>\n",
       "      <td>Pozitif</td>\n",
       "      <td>Benim bir korkum yok konuyu çarpıtmayada gerek...</td>\n",
       "    </tr>\n",
       "    <tr>\n",
       "      <th>47</th>\n",
       "      <td>Pozitif</td>\n",
       "      <td>Başkalarına yapılan hukuk dışı, ahlak dışı ola...</td>\n",
       "    </tr>\n",
       "    <tr>\n",
       "      <th>48</th>\n",
       "      <td>Pozitif</td>\n",
       "      <td>Doğduğum günden tam 22 yıl sonra yine aynı tar...</td>\n",
       "    </tr>\n",
       "    <tr>\n",
       "      <th>49</th>\n",
       "      <td>Pozitif</td>\n",
       "      <td>Çok komiksin ya, burun deliklerini kapat güler...</td>\n",
       "    </tr>\n",
       "  </tbody>\n",
       "</table>\n",
       "</div>"
      ],
      "text/plain": [
       "        Tip                                           Paylaşım\n",
       "0   Negatif                      Doğa ağzımıza sıçsa hakkı var\n",
       "1   Pozitif  Anne bir sanatçıdır, en güzel eseri de yavrusu...\n",
       "2   Negatif   ibrahimin oğlunu koruyan Tanrı’ya da ben sokayım\n",
       "3   Negatif        Köpeğim suratına sıçsın senin namussuz karı\n",
       "4   Negatif                Ben söğüşledim, birazda sen söğüşle\n",
       "5   Negatif  Şerefsizlik, sözde sanatçıların vazgeçemediği ...\n",
       "6   Negatif              Kendisi de bilmiyordur çünkü beyinsiz\n",
       "7   Negatif  aşırı bıyıklı geleneksel keko adam, bi ayrılıp...\n",
       "8   Pozitif  En uzun yolculuklar bile, tek bir adımla başla...\n",
       "9   Pozitif        Vallahi bu aralar istediğimiz tek şey huzur\n",
       "10  Pozitif  CHP Genel Başkanı Kemal Kılıçdaroğlu'nun eşi S...\n",
       "11  Pozitif  Beyin göçünü engellemeye çalıştığımız gençlere...\n",
       "12  Pozitif        Doğa ana bu kullanılmayan depoyu devralıyor\n",
       "13  Pozitif  Tarlasını çekerken beni niye çekmedin diye söy...\n",
       "14  Negatif  babaannesini seven yoktur heralde anneanneler ...\n",
       "15  Pozitif  Merhaba, konuyla ilgili yardımcı olmak isteriz...\n",
       "16  Pozitif  Nietzsche Böyle Buyurdu Zerdüşt’te; \"Ama önce ...\n",
       "17  Pozitif  Hiçbir şey harekete geçen cehalet kadar korkun...\n",
       "18  Pozitif  Yine birileri bazı değişimlerin tadını çıkarma...\n",
       "19  Pozitif  \"stanley parable diye bir oyun var abi sevebil...\n",
       "20  Pozitif  \"Seni kitap okuyan insanlarla tanıştıracağım. ...\n",
       "21  Pozitif              Yaptığım en başarılı aktivite uyumak.\n",
       "22  Negatif  Kim demiş iyilerle kötüler belli değil diye;it...\n",
       "23  Negatif  Hiç bir faydası olmayan, zararı olan, saray so...\n",
       "24  Negatif  Ulan yanan alevi yakan alevi bugün temel ile a...\n",
       "25  Negatif  Defol git lan, ölüye saygın yok anladık bari A...\n",
       "26  Pozitif  2018'den bu yana formamızı terleten, sadece ba...\n",
       "27  Negatif  Kanka ben netflix sayesinde ingilizce ogreniyo...\n",
       "28  Negatif                                         Öldürür bu\n",
       "29  Pozitif  O zaman para vermeyeceksin kardeşim. He demek ...\n",
       "30  Negatif                                Gay düsmani mustafa\n",
       "31  Pozitif  Neden? İzlemek istemeyen abone olmaz. Açık sah...\n",
       "32  Negatif                             izleme o zaman dalyrak\n",
       "33  Negatif  Türk televizyon dizileri: Tecavüz, kadına şidd...\n",
       "34  Negatif                İzleme be amına kodumun koyunu seni\n",
       "35  Negatif                   Fiyatı mı fazla geldi gerizekalı\n",
       "36  Negatif  ezik orospu evladi izleyen ister ucretli bir u...\n",
       "37  Negatif  İzleme ozaman yarram bi karı görsen düz yokuşa...\n",
       "38  Negatif  Zehirin aktığı yer sizin beyniniz ve ağzınız a...\n",
       "39  Negatif  Hayatında hiç para vermeden seks yapmamış, çev...\n",
       "40  Negatif  Aq ayık gezmezler her bulduğunu skerler abazal...\n",
       "41  Negatif  sus lan yavşak   izleme götüm zaten siz fakirl...\n",
       "42  Negatif                                  satın almayın amk\n",
       "43  Pozitif  Bir dur da dinle ademoğlu nasıl geldin nasıl g...\n",
       "44  Pozitif  Hepsinin ötesinde, bu baskıcı dönemde alınan t...\n",
       "45  Negatif  Motorsikletin yanından geçen motorcu oluyor am...\n",
       "46  Pozitif  Benim bir korkum yok konuyu çarpıtmayada gerek...\n",
       "47  Pozitif  Başkalarına yapılan hukuk dışı, ahlak dışı ola...\n",
       "48  Pozitif  Doğduğum günden tam 22 yıl sonra yine aynı tar...\n",
       "49  Pozitif  Çok komiksin ya, burun deliklerini kapat güler..."
      ]
     },
     "execution_count": 13,
     "metadata": {},
     "output_type": "execute_result"
    }
   ],
   "source": [
    "data.head(50)"
   ]
  },
  {
   "cell_type": "code",
   "execution_count": 14,
   "id": "7ee62a63",
   "metadata": {},
   "outputs": [
    {
     "data": {
      "text/plain": [
       "Pozitif    6111\n",
       "Negatif    5000\n",
       "Name: Tip, dtype: int64"
      ]
     },
     "execution_count": 14,
     "metadata": {},
     "output_type": "execute_result"
    }
   ],
   "source": [
    "data[\"Tip\"].value_counts() # Tip sütununda yer alan değerlerin adet bazında sınıflandırıması."
   ]
  },
  {
   "cell_type": "code",
   "execution_count": 15,
   "id": "7af0a6de",
   "metadata": {},
   "outputs": [
    {
     "data": {
      "text/plain": [
       "(11111, 2)"
      ]
     },
     "execution_count": 15,
     "metadata": {},
     "output_type": "execute_result"
    }
   ],
   "source": [
    "data.shape"
   ]
  },
  {
   "cell_type": "code",
   "execution_count": 16,
   "id": "d43e58fd",
   "metadata": {},
   "outputs": [
    {
     "data": {
      "text/plain": [
       "(5000, 2)"
      ]
     },
     "execution_count": 16,
     "metadata": {},
     "output_type": "execute_result"
    }
   ],
   "source": [
    "data[data[\"Tip\"]==\"Negatif\"].shape"
   ]
  },
  {
   "cell_type": "code",
   "execution_count": 17,
   "id": "267c2962",
   "metadata": {},
   "outputs": [
    {
     "data": {
      "text/plain": [
       "(6111, 2)"
      ]
     },
     "execution_count": 17,
     "metadata": {},
     "output_type": "execute_result"
    }
   ],
   "source": [
    "data[data[\"Tip\"]==\"Pozitif\"].shape"
   ]
  },
  {
   "cell_type": "code",
   "execution_count": 18,
   "id": "2e18cb86",
   "metadata": {},
   "outputs": [
    {
     "name": "stdout",
     "output_type": "stream",
     "text": [
      "<class 'pandas.core.frame.DataFrame'>\n",
      "RangeIndex: 11111 entries, 0 to 11110\n",
      "Data columns (total 2 columns):\n",
      " #   Column    Non-Null Count  Dtype \n",
      "---  ------    --------------  ----- \n",
      " 0   Tip       11111 non-null  object\n",
      " 1   Paylaşım  11111 non-null  object\n",
      "dtypes: object(2)\n",
      "memory usage: 173.7+ KB\n"
     ]
    }
   ],
   "source": [
    "data.info()"
   ]
  },
  {
   "cell_type": "code",
   "execution_count": 19,
   "id": "a85d6cc0",
   "metadata": {},
   "outputs": [
    {
     "data": {
      "text/plain": [
       "Tip         0\n",
       "Paylaşım    0\n",
       "dtype: int64"
      ]
     },
     "execution_count": 19,
     "metadata": {},
     "output_type": "execute_result"
    }
   ],
   "source": [
    "data.isnull().sum() # veride null değer olup olmadığının kontrolü"
   ]
  },
  {
   "cell_type": "markdown",
   "id": "7145cb64",
   "metadata": {},
   "source": [
    "***\n",
    "***\n"
   ]
  },
  {
   "cell_type": "markdown",
   "id": "b683fa47",
   "metadata": {},
   "source": [
    "# <font color='darkgreen'>VERİ HAZIRLIK AŞAMASI </font>"
   ]
  },
  {
   "cell_type": "markdown",
   "id": "1d0dfc6a",
   "metadata": {},
   "source": [
    "***\n",
    "***\n",
    "***"
   ]
  },
  {
   "cell_type": "code",
   "execution_count": 20,
   "id": "4409d19d",
   "metadata": {},
   "outputs": [],
   "source": [
    "data[\"Paylaşım\"]=[sentence.lower() for sentence in data[\"Paylaşım\"]] # tweetlerdeki harflerin küçük harfe çevrilmesi"
   ]
  },
  {
   "cell_type": "code",
   "execution_count": 21,
   "id": "388c1e1d",
   "metadata": {},
   "outputs": [
    {
     "data": {
      "text/plain": [
       "0                        doğa ağzımıza sıçsa hakkı var\n",
       "1    anne bir sanatçıdır, en güzel eseri de yavrusu...\n",
       "2     ibrahimin oğlunu koruyan tanrı’ya da ben sokayım\n",
       "3          köpeğim suratına sıçsın senin namussuz karı\n",
       "4                  ben söğüşledim, birazda sen söğüşle\n",
       "Name: Paylaşım, dtype: object"
      ]
     },
     "execution_count": 21,
     "metadata": {},
     "output_type": "execute_result"
    }
   ],
   "source": [
    "data[\"Paylaşım\"].head()"
   ]
  },
  {
   "cell_type": "markdown",
   "id": "37d38a62",
   "metadata": {},
   "source": [
    "###  Stop wordsler alındı"
   ]
  },
  {
   "cell_type": "code",
   "execution_count": 22,
   "id": "f2e566eb",
   "metadata": {},
   "outputs": [],
   "source": [
    "import nltk\n",
    "stop_word_list = nltk.corpus.stopwords.words('turkish')\n",
    "stop_word_list.extend([\"bir\", \"kadar\", \"sonra\", \"kere\", \"mi\", \"ye\", \"te\", \"ta\", \"nun\", \"daki\", \"nın\", \"ten\"])"
   ]
  },
  {
   "cell_type": "code",
   "execution_count": 23,
   "id": "b5cedc0d",
   "metadata": {},
   "outputs": [
    {
     "data": {
      "text/plain": [
       "['acaba',\n",
       " 'ama',\n",
       " 'aslında',\n",
       " 'az',\n",
       " 'bazı',\n",
       " 'belki',\n",
       " 'biri',\n",
       " 'birkaç',\n",
       " 'birşey',\n",
       " 'biz']"
      ]
     },
     "execution_count": 23,
     "metadata": {},
     "output_type": "execute_result"
    }
   ],
   "source": [
    "stop_word_list[0:10]"
   ]
  },
  {
   "cell_type": "markdown",
   "id": "b9e61f53",
   "metadata": {},
   "source": [
    "***\n",
    "***\n",
    "***"
   ]
  },
  {
   "cell_type": "markdown",
   "id": "4aa8c35e",
   "metadata": {},
   "source": [
    "- Jpype, python içinde javayı kullanmayı sağlar. Java dilinde yazılan zemberek kütüphanesini kullanabilmek için oluşturulmuştur."
   ]
  },
  {
   "cell_type": "code",
   "execution_count": 24,
   "id": "2fa54168",
   "metadata": {},
   "outputs": [],
   "source": [
    "import jpype\n",
    "from jpype import JClass, JString, getDefaultJVMPath, shutdownJVM, startJVM, java\n",
    "\n",
    "# Zemberek kütüphanesinin dosyalarını java ile başlattım\n",
    "ZEMBEREK_PATH = r\"C:\\Users\\emredgr\\Downloads\\zemberek-full.jar\"\n",
    "startJVM(getDefaultJVMPath(), '-ea', '-Djava.class.path=%s' % (ZEMBEREK_PATH))\n",
    "\n",
    "# Lemmatizasyon\n",
    "TurkishMorphology = JClass('zemberek.morphology.TurkishMorphology')\n",
    "morphology = TurkishMorphology.createWithDefaults()\n",
    "\n",
    "# Yazım düzeltimi için TurkishSpellChecker nesnesi çağrıldı\n",
    "TurkishSpellChecker: JClass = JClass('zemberek.normalization.TurkishSpellChecker')\n",
    "spell_checker: TurkishSpellChecker = TurkishSpellChecker(morphology)"
   ]
  },
  {
   "cell_type": "code",
   "execution_count": null,
   "id": "5d57fbd6",
   "metadata": {},
   "outputs": [],
   "source": []
  },
  {
   "cell_type": "code",
   "execution_count": 25,
   "id": "57439752",
   "metadata": {},
   "outputs": [],
   "source": [
    "x=data.Paylaşım.values\n",
    "y=data.Tip.values"
   ]
  },
  {
   "cell_type": "code",
   "execution_count": 26,
   "id": "a1d4f551",
   "metadata": {},
   "outputs": [
    {
     "data": {
      "text/plain": [
       "array(['doğa ağzımıza sıçsa hakkı var',\n",
       "       'anne bir sanatçıdır, en güzel eseri de yavrusudur. ',\n",
       "       'ibrahimin oğlunu koruyan tanrı’ya da ben sokayım',\n",
       "       'köpeğim suratına sıçsın senin namussuz karı',\n",
       "       'ben söğüşledim, birazda sen söğüşle',\n",
       "       'şerefsizlik, sözde sanatçıların vazgeçemediği bir değerdir',\n",
       "       'kendisi de bilmiyordur çünkü beyinsiz',\n",
       "       'aşırı bıyıklı geleneksel keko adam, bi ayrılıp bi barışan boş bakışlı salak çift veya direnaj ertuğrul 18. sezon dışında bi şey izlemek isteyenler için bi çözüm düşündünüz mü peki',\n",
       "       'en uzun yolculuklar bile, tek bir adımla başlar. geleceğin mimarları gençlerimiz için atılan ilk adımları var gücümüzle desteklemeye devam ediyoruz.',\n",
       "       'vallahi bu aralar istediğimiz tek şey huzur'], dtype=object)"
      ]
     },
     "execution_count": 26,
     "metadata": {},
     "output_type": "execute_result"
    }
   ],
   "source": [
    "x[0:10]"
   ]
  },
  {
   "cell_type": "code",
   "execution_count": 27,
   "id": "5978c84c",
   "metadata": {},
   "outputs": [
    {
     "data": {
      "text/plain": [
       "array(['Negatif', 'Pozitif', 'Negatif', 'Negatif', 'Negatif', 'Negatif',\n",
       "       'Negatif', 'Negatif', 'Pozitif', 'Pozitif'], dtype=object)"
      ]
     },
     "execution_count": 27,
     "metadata": {},
     "output_type": "execute_result"
    }
   ],
   "source": [
    "y[0:10]"
   ]
  },
  {
   "cell_type": "markdown",
   "id": "35347c56",
   "metadata": {},
   "source": [
    "###  Noktalamaları, sayıları kaldırma "
   ]
  },
  {
   "cell_type": "code",
   "execution_count": 28,
   "id": "b9d4e75b",
   "metadata": {},
   "outputs": [],
   "source": [
    "import re\n",
    "sentences = x.copy()\n",
    "new_sent = []\n",
    "i = 0\n",
    "for sentence in sentences:\n",
    "    new_sentence = re.sub('[0-9]+', '', sentence)\n",
    "    new_sent.append(new_sentence)\n",
    "    i += 1\n",
    "    \n",
    "x = new_sent\n"
   ]
  },
  {
   "cell_type": "code",
   "execution_count": 29,
   "id": "afc1cc75",
   "metadata": {},
   "outputs": [
    {
     "data": {
      "text/plain": [
       "['ben söğüşledim, birazda sen söğüşle',\n",
       " 'şerefsizlik, sözde sanatçıların vazgeçemediği bir değerdir',\n",
       " 'kendisi de bilmiyordur çünkü beyinsiz',\n",
       " 'aşırı bıyıklı geleneksel keko adam, bi ayrılıp bi barışan boş bakışlı salak çift veya direnaj ertuğrul . sezon dışında bi şey izlemek isteyenler için bi çözüm düşündünüz mü peki',\n",
       " 'en uzun yolculuklar bile, tek bir adımla başlar. geleceğin mimarları gençlerimiz için atılan ilk adımları var gücümüzle desteklemeye devam ediyoruz.']"
      ]
     },
     "execution_count": 29,
     "metadata": {},
     "output_type": "execute_result"
    }
   ],
   "source": [
    "x[4:9]"
   ]
  },
  {
   "cell_type": "code",
   "execution_count": 30,
   "id": "cec60991",
   "metadata": {},
   "outputs": [],
   "source": [
    "import string\n",
    "\n",
    "table = str.maketrans('', '', string.punctuation)\n",
    "sentences = x.copy()\n",
    "new_sent = []\n",
    "for sentence in sentences:\n",
    "    words = sentence.split()\n",
    "    stripped = [w.translate(table) for w in words]\n",
    "    new_sent.append(stripped)"
   ]
  },
  {
   "cell_type": "code",
   "execution_count": 31,
   "id": "050248ba",
   "metadata": {},
   "outputs": [],
   "source": [
    "x= new_sent"
   ]
  },
  {
   "cell_type": "code",
   "execution_count": 32,
   "id": "3a05f9e5",
   "metadata": {},
   "outputs": [
    {
     "data": {
      "text/plain": [
       "[['doğa', 'ağzımıza', 'sıçsa', 'hakkı', 'var'],\n",
       " ['anne', 'bir', 'sanatçıdır', 'en', 'güzel', 'eseri', 'de', 'yavrusudur'],\n",
       " ['ibrahimin', 'oğlunu', 'koruyan', 'tanrı’ya', 'da', 'ben', 'sokayım'],\n",
       " ['köpeğim', 'suratına', 'sıçsın', 'senin', 'namussuz', 'karı']]"
      ]
     },
     "execution_count": 32,
     "metadata": {},
     "output_type": "execute_result"
    }
   ],
   "source": [
    "x[0:4]"
   ]
  },
  {
   "cell_type": "markdown",
   "id": "ced18f6a",
   "metadata": {},
   "source": [
    "***\n",
    "***\n",
    "***"
   ]
  },
  {
   "cell_type": "markdown",
   "id": "7d3abf7c",
   "metadata": {},
   "source": [
    "# <font color='darkgreen'>Stop words, Lemmatizasyon, Yazım denetimi Aşaması </font>"
   ]
  },
  {
   "cell_type": "code",
   "execution_count": 33,
   "id": "450bdf36",
   "metadata": {},
   "outputs": [],
   "source": [
    "def remove_stopword(tokens):\n",
    "    filtered_tokens = [token for token in tokens if token not in stop_word_list]  # stop word'lerden temizlenir.\n",
    "    return filtered_tokens\n",
    "\n",
    "\n",
    "# yazım düzeltim fonksiyonu \n",
    "def spellChecker(tokens):\n",
    "    for index, token in enumerate(tokens):\n",
    "    \n",
    "        if not spell_checker.check(JString(token)): # check fonksiyonu kelimenin doğru yazılıp yazılmadığını kontrol eder.\n",
    "            if spell_checker.suggestForWord(JString(token)):\n",
    "                # kelimenin doğru halini döndürür.\n",
    "                tokens[index] = spell_checker.suggestForWord(JString(token))[0] # suggestForWord fonk\n",
    "                # kelimenin doğru yazılışını döndürür\n",
    "\n",
    "    corrected = [str(i) for i in tokens]\n",
    "\n",
    "    return \" \".join(corrected)\n",
    "\n",
    "def Lemmatization(sentence):\n",
    "    analysis: java.util.ArrayList = (morphology.analyzeAndDisambiguate(sentence).bestAnalysis())\n",
    "    token = sentence.split()\n",
    "\n",
    "    pos = []\n",
    "    \n",
    "    # kelime köküne inemediği kelimeye UNK demektedir. UNK olan kelimeleri normal hali pos listesine atılır.\n",
    "    \n",
    "    for index, i in enumerate(analysis):\n",
    "        if str(i.getLemmas()[0]) == \"UNK\":\n",
    "            pos.append(token[index])\n",
    "        else:\n",
    "            pos.append(str(i.getLemmas()[0]))\n",
    "\n",
    "    return pos"
   ]
  },
  {
   "cell_type": "code",
   "execution_count": 34,
   "id": "1b3b4ff6",
   "metadata": {},
   "outputs": [],
   "source": [
    "X = []\n",
    "for i in x:\n",
    "    text = re.sub('\\W+', ' ', str(i))\n",
    "    text = text.replace('I',\n",
    "                        'ı')  # lower() yapıldığı zaman I harfi i olarak çevirildiğinden dolayı replace ile düzeltildi.\n",
    "    text = text.replace('İ', 'i')\n",
    "    text = text.lower()\n",
    "    text = \" \".join([j for j in text.split() if j not in stop_word_list])\n",
    "    text = \" \".join([i for i in text.split() if len(i) > 1])\n",
    "    text = spellChecker(text.split())\n",
    "    if len(text) != 0:\n",
    "        lemmaList = Lemmatization(text)\n",
    "    text = \" \".join(lemmaList)\n",
    "    X.append(text)"
   ]
  },
  {
   "cell_type": "code",
   "execution_count": 35,
   "id": "b8436c65",
   "metadata": {},
   "outputs": [
    {
     "data": {
      "text/plain": [
       "['doğa ağız sıç hak var',\n",
       " 'anne sanat güzel eser yavru',\n",
       " 'ibrahim oğul koru tanrı ben sok',\n",
       " 'köpek surat sıç sen namus karı',\n",
       " 'ben söğüşle biraz sen söğüş',\n",
       " 'şeref söz sanat vazgeç değer',\n",
       " 'kendi bil beyinsiz',\n",
       " 'aşırı bıyık gelenek beko adam bu ayır bu barış boş bak salak çift drenaj ertuğrul sezon dış bu izle iste bu çözüm düşün peki',\n",
       " 'uzun yolcu bile tek adım başla gelecek mimar genç at ilk adım var güç destekle devam et',\n",
       " 'vallahi ara iste tek huzur']"
      ]
     },
     "execution_count": 35,
     "metadata": {},
     "output_type": "execute_result"
    }
   ],
   "source": [
    "X[0:10]"
   ]
  },
  {
   "cell_type": "markdown",
   "id": "886d41fb",
   "metadata": {},
   "source": [
    "###  Nadir geçen kelimeleri tespit etme ve kaldırma"
   ]
  },
  {
   "cell_type": "code",
   "execution_count": 36,
   "id": "65b86435",
   "metadata": {},
   "outputs": [],
   "source": [
    "freq = pd.Series(' '.join(X).split()).value_counts()\n",
    "less_freq = list(freq[freq == 1].index)\n"
   ]
  },
  {
   "cell_type": "code",
   "execution_count": 37,
   "id": "877f4853",
   "metadata": {},
   "outputs": [
    {
     "data": {
      "text/plain": [
       "ol            3093\n",
       "sen           1738\n",
       "ben           1312\n",
       "et            1297\n",
       "de            1196\n",
       "              ... \n",
       "aksoy            1\n",
       "ziyafet          1\n",
       "eyüpsultan       1\n",
       "şovenist         1\n",
       "salavat          1\n",
       "Length: 10584, dtype: int64"
      ]
     },
     "execution_count": 37,
     "metadata": {},
     "output_type": "execute_result"
    }
   ],
   "source": [
    "freq"
   ]
  },
  {
   "cell_type": "code",
   "execution_count": 38,
   "id": "47ea9864",
   "metadata": {},
   "outputs": [
    {
     "name": "stdout",
     "output_type": "stream",
     "text": [
      "5373\n"
     ]
    },
    {
     "data": {
      "text/plain": [
       "['atasever',\n",
       " 'muslu',\n",
       " 'fıtık',\n",
       " 'tesekkurlerrr',\n",
       " 'tipoloji',\n",
       " 'hazar',\n",
       " 'topraani',\n",
       " 'hin',\n",
       " 'depozit',\n",
       " 'yeşilçay',\n",
       " 'süprüntü',\n",
       " 'nurgül',\n",
       " 'insanalrin',\n",
       " 'çözün',\n",
       " 'anidenbahar',\n",
       " 'alısmıs',\n",
       " 'tem',\n",
       " 'penguengiller',\n",
       " 'sikik',\n",
       " 'skfkskcjs',\n",
       " 'ırmak',\n",
       " 'dilem',\n",
       " 'ergüçlü',\n",
       " 'youtuberlar',\n",
       " 'emreesahin',\n",
       " 'kavramini',\n",
       " 'dusmanlarini',\n",
       " 'fuckboddy',\n",
       " 'wryure',\n",
       " 'arabasizligin',\n",
       " 'calışiyon',\n",
       " 'cinsellikicerir',\n",
       " 'cikyo',\n",
       " 'cekyor',\n",
       " 'bakir',\n",
       " 'baros',\n",
       " 'manyaklasiyor',\n",
       " 'lipit',\n",
       " 'boyna',\n",
       " 'çoban',\n",
       " 'uefa',\n",
       " 'tokmak',\n",
       " 'koronavirüsteki',\n",
       " 'hahahasfg',\n",
       " 'arttikca',\n",
       " 'astik',\n",
       " 'dermancıoğlu',\n",
       " 'dolleyem',\n",
       " 'kirik',\n",
       " 'xvkdhkgchkv',\n",
       " 'vesika',\n",
       " 'tırabzan',\n",
       " 'atcagınız',\n",
       " 'trip',\n",
       " 'besiktas',\n",
       " 'gepetto',\n",
       " 'müslim',\n",
       " 'haydin',\n",
       " 'özgü',\n",
       " 'zararsiniz',\n",
       " 'güclüdü',\n",
       " 'paylasmadigi',\n",
       " 'skyyart',\n",
       " 'toplasini',\n",
       " 'muhafız',\n",
       " 'yazikkar',\n",
       " 'çağatay',\n",
       " 'noooolur',\n",
       " 'kiskanclik',\n",
       " 'çöküntü',\n",
       " 'elveda',\n",
       " 'haspa',\n",
       " 'yersiz',\n",
       " 'grafiker',\n",
       " 'lightning',\n",
       " 'nankörrrrrrrrrrr',\n",
       " 'marti',\n",
       " 'parmaklarimi',\n",
       " 'adidas',\n",
       " 'immunitetimiz',\n",
       " 'janjanlisi',\n",
       " 'uwe',\n",
       " 'lockheed',\n",
       " 'cariye',\n",
       " 'deaş',\n",
       " 'hmqevdl',\n",
       " 'frekans',\n",
       " 'highlight',\n",
       " 'rastgele',\n",
       " 'dırzik',\n",
       " 'bulentuslu',\n",
       " 'demarkesports',\n",
       " 'nuri',\n",
       " 'dalida',\n",
       " 'besıktas',\n",
       " 'bummm',\n",
       " 'istor',\n",
       " 'yaydiği',\n",
       " 'kskdkdkdkdkdkdldldllskdldlcldlclclclclcşdşfcşğdxğ',\n",
       " 'fenânun',\n",
       " 'redif',\n",
       " 'facetime',\n",
       " 'drag',\n",
       " 'oligaysexpornx',\n",
       " 'gazel',\n",
       " 'ersancoonery',\n",
       " 'edgar',\n",
       " 'sezaryen',\n",
       " 'cedi',\n",
       " 'yanşa',\n",
       " 'beate',\n",
       " 'kskfkkskdksdkldlflf',\n",
       " 'fldşxmaçzşdçöffç',\n",
       " 'paranotel',\n",
       " 'ogretinin',\n",
       " 'turkgayplatform',\n",
       " 'etap',\n",
       " 'asicaz',\n",
       " 'sonya',\n",
       " 'lannnnn',\n",
       " 'ısı',\n",
       " 'thanxxe',\n",
       " 'selatin',\n",
       " 'kariyo',\n",
       " 'saddam',\n",
       " 'lilith',\n",
       " 'muratylddz',\n",
       " 'sütyen',\n",
       " 'yazikk',\n",
       " 'ınternet',\n",
       " 'pençe',\n",
       " 'izdirabini',\n",
       " 'tercüme',\n",
       " 'şişebutunlu',\n",
       " 'sikisteyen',\n",
       " 'sikisisteyen',\n",
       " 'aaaauuwwww',\n",
       " 'havra',\n",
       " 'alperxcan',\n",
       " 'kafiye',\n",
       " 'üniforma',\n",
       " 'hasılı',\n",
       " 'avâmun',\n",
       " 'nah',\n",
       " 'mahmur',\n",
       " 'kaldiği',\n",
       " 'yaptigin',\n",
       " 'sinagog',\n",
       " 'denli',\n",
       " 'jejunijeju',\n",
       " 'skcmdm',\n",
       " 'keler',\n",
       " 'sağım',\n",
       " 'öbek',\n",
       " 'ankebut',\n",
       " 'cadaxcaca',\n",
       " 'abeeeeee',\n",
       " 'özgüveni',\n",
       " 'toner',\n",
       " 'haa',\n",
       " 'kkablanc',\n",
       " 'radyasyon',\n",
       " 'gümüşhane',\n",
       " 'sarp',\n",
       " 'saba',\n",
       " 'laaaa',\n",
       " 'kemoterapi',\n",
       " 'cagirarak',\n",
       " 'odalık',\n",
       " 'kaski',\n",
       " 'tamer',\n",
       " 'mehtapbozaslan',\n",
       " 'lys',\n",
       " 'çekince',\n",
       " 'dona',\n",
       " 'aras',\n",
       " 'iskandinav',\n",
       " 'seniiiii',\n",
       " 'jojukk',\n",
       " 'khontkar',\n",
       " 'lakap',\n",
       " 'niğde',\n",
       " 'olayyy',\n",
       " 'gevele',\n",
       " 'kabayel',\n",
       " 'sunay',\n",
       " 'interstellar',\n",
       " 'sorlothun',\n",
       " 'şimdilik',\n",
       " 'omar',\n",
       " 'şive',\n",
       " 'sobele',\n",
       " 'yetin',\n",
       " 'zehrahuzursuz',\n",
       " 'sadcebu',\n",
       " 'ceyo',\n",
       " 'aglıon',\n",
       " 'sivilce',\n",
       " 'giyinik',\n",
       " 'abu',\n",
       " 'manuuuu',\n",
       " 'iylmnq',\n",
       " 'tipik',\n",
       " 'ruhanilerizdrap',\n",
       " 'futbolarena',\n",
       " 'ayarlio',\n",
       " 'ooooooo',\n",
       " 'eliyüzü',\n",
       " 'dola',\n",
       " 'bazilarina',\n",
       " 'srdrdeger',\n",
       " 'vaaz',\n",
       " 'miiwibis',\n",
       " 'narkotik',\n",
       " 'kadininda',\n",
       " 'what',\n",
       " 'defans',\n",
       " 'tünel',\n",
       " 'yazınnnn',\n",
       " 'rapunzel',\n",
       " 'sait',\n",
       " 'samiltayyar',\n",
       " 'usopindo',\n",
       " 'fuckbody',\n",
       " 'silaljajic',\n",
       " 'buru',\n",
       " 'çalişanlarinizin',\n",
       " 'sikintilari',\n",
       " 'förldşd',\n",
       " 'braga',\n",
       " 'babi',\n",
       " 'ençok',\n",
       " 'sıkkın',\n",
       " 'aöfüçderssınavımızıgeriverin',\n",
       " 'liselihatunx',\n",
       " 'mürüvvet',\n",
       " 'ilelebet',\n",
       " 'yavşaksiniz',\n",
       " 'putkıranlarına',\n",
       " 'zihni',\n",
       " 'motive',\n",
       " 'pinokyo',\n",
       " 'hümeyra',\n",
       " 'çicek',\n",
       " 'bulanık',\n",
       " 'kolayiniza',\n",
       " 'polatkan',\n",
       " 'inatçı',\n",
       " 'mazgal',\n",
       " 'budist',\n",
       " 'allavi',\n",
       " 'tayland',\n",
       " 'itaatkar',\n",
       " 'küf',\n",
       " 'yazman',\n",
       " 'banu',\n",
       " 'sbzjzlxnzlzös',\n",
       " 'bisex',\n",
       " 'pist',\n",
       " 'deşifre',\n",
       " 'çikacaginin',\n",
       " 'mdmfldmfmdmf',\n",
       " 'yasanirmis',\n",
       " 'fedai',\n",
       " 'saldiram',\n",
       " 'dilber',\n",
       " 'candan',\n",
       " 'telepatik',\n",
       " 'instrumental',\n",
       " 'nancy',\n",
       " 'ejusieiwie',\n",
       " 'baskıla',\n",
       " 'pahal',\n",
       " 'rüşvet',\n",
       " 'xgocphhc',\n",
       " 'geliyooo',\n",
       " 'djkd',\n",
       " 'altyazisi',\n",
       " 'mecburiyet',\n",
       " 'littleba',\n",
       " 'jshshshs',\n",
       " 'till',\n",
       " 'gaga',\n",
       " 'taht',\n",
       " 'falso',\n",
       " 'aşım',\n",
       " 'kandi',\n",
       " 'kiskandim',\n",
       " 'iyon',\n",
       " 'herry',\n",
       " 'miraybtr',\n",
       " 'gönullu',\n",
       " 'amman',\n",
       " 'fingirdek',\n",
       " 'tüğğ',\n",
       " 'ablacigim',\n",
       " 'böğür',\n",
       " 'faysbukta',\n",
       " 'evening',\n",
       " 'şerit',\n",
       " 'kayinçimla',\n",
       " 'varan',\n",
       " 'valorant',\n",
       " 'jxxfhjhg',\n",
       " 'telif',\n",
       " 'vesayet',\n",
       " 'biliyorummmm',\n",
       " 'aloooooğğğğğğ',\n",
       " 'zaferetransfer',\n",
       " 'jeton',\n",
       " 'seyrel',\n",
       " 'tortu',\n",
       " 'sovecegim',\n",
       " 'meşrep',\n",
       " 'güvence',\n",
       " 'master',\n",
       " 'missing',\n",
       " 'socksfetish',\n",
       " 'footfetish',\n",
       " 'amicamin',\n",
       " 'orwell',\n",
       " 'kazakistan',\n",
       " 'kayır',\n",
       " 'soda',\n",
       " 'bası',\n",
       " 'dislike',\n",
       " 'idlib',\n",
       " 'ajssj',\n",
       " 'zıvana',\n",
       " 'muekkid',\n",
       " 'picemiyeti',\n",
       " 'büyükelçi',\n",
       " 'uğurcan',\n",
       " 'deva',\n",
       " 'bindallı',\n",
       " 'muvaffakiyetsizleştiricileştiriveremeyebileceklerimizdenmişsinizcesine',\n",
       " 'mont',\n",
       " 'alaca',\n",
       " 'saparbekuly',\n",
       " 'merhem',\n",
       " 'danilo',\n",
       " 'barthes',\n",
       " 'iğnele',\n",
       " 'yurtiçi',\n",
       " 'fresk',\n",
       " 'flash',\n",
       " 'kazanım',\n",
       " 'gormuyo',\n",
       " 'senior',\n",
       " 'uzuv',\n",
       " 'seksüel',\n",
       " 'hafıza',\n",
       " 'neşter',\n",
       " 'cerrah',\n",
       " 'sut',\n",
       " 'muhasebe',\n",
       " 'panda',\n",
       " 'yuvarla',\n",
       " 'hazir',\n",
       " 'aylarrrr',\n",
       " 'özgül',\n",
       " 'akhisar',\n",
       " 'yeterrrrrr',\n",
       " 'erotizm',\n",
       " 'olgu',\n",
       " 'seksiarzulanir',\n",
       " 'örneklercocuksuluk',\n",
       " 'vermesiburnumuzun',\n",
       " 'arzula',\n",
       " 'çekipmakyaj',\n",
       " 'şupur',\n",
       " 'aleyna',\n",
       " 'yalanla',\n",
       " 'hısım',\n",
       " 'fahiş',\n",
       " 'yanılsama',\n",
       " 'tezahür',\n",
       " 'yokum',\n",
       " 'foreks',\n",
       " 'şereflen',\n",
       " 'endişe',\n",
       " 'faydalan',\n",
       " 'turla',\n",
       " 'dekor',\n",
       " 'kikirik',\n",
       " 'mümtaz',\n",
       " 'kavra',\n",
       " 'odağımızgeleceği',\n",
       " 'batıhristiyan',\n",
       " 'sembolbir',\n",
       " 'ibadethane',\n",
       " 'sjskjsnd',\n",
       " 'sunshinepowerr',\n",
       " 'püf',\n",
       " 'piramit',\n",
       " 'kdçsmdösmösmss',\n",
       " 'slam',\n",
       " 'katık',\n",
       " 'sikerkenki',\n",
       " 'ataşehir',\n",
       " 'aytmatov',\n",
       " 'basık',\n",
       " 'tahsis',\n",
       " 'meçhul',\n",
       " 'yaban',\n",
       " 'alinnnn',\n",
       " 'cikabilir',\n",
       " 'yatı',\n",
       " 'çıkartılmışevet',\n",
       " 'titiz',\n",
       " 'tüyo',\n",
       " 'şef',\n",
       " 'riya',\n",
       " 'siyasal',\n",
       " 'gamilker',\n",
       " 'yavrucak',\n",
       " 'sağlanmadıtelefonlar',\n",
       " 'sonlandırıldımaillere',\n",
       " 'haldehiçbir',\n",
       " 'yatay',\n",
       " 'moruqq',\n",
       " 'yiyici',\n",
       " 'reingefahren',\n",
       " 'nörolojik',\n",
       " 'tartişilmaya',\n",
       " 'türbin',\n",
       " 'dubar',\n",
       " 'eeeyyyyy',\n",
       " 'tufan',\n",
       " 'buruk',\n",
       " 'dama',\n",
       " 'bahreyn',\n",
       " 'ediçeksiniz',\n",
       " 'nifak',\n",
       " 'eğik',\n",
       " 'fred',\n",
       " 'sigmund',\n",
       " 'celi',\n",
       " 'faces',\n",
       " 'hayırsever',\n",
       " 'tutarak',\n",
       " 'ranked',\n",
       " 'belirti',\n",
       " 'anadoluuniv',\n",
       " 'napoli',\n",
       " 'efkarlan',\n",
       " 'tömer',\n",
       " 'cgdmtsdmr',\n",
       " 'krkso',\n",
       " 'nara',\n",
       " 'ahbari',\n",
       " 'bulastirabilir',\n",
       " 'sirkülasyon',\n",
       " 'coronaturkey',\n",
       " 'gey',\n",
       " 'papatya',\n",
       " 'yigvze',\n",
       " 'rob',\n",
       " 'turkifsa',\n",
       " 'turkporno',\n",
       " 'türkifşa',\n",
       " 'hdçwhdçwhdöwjsjwhdwlhdwkhdjwje',\n",
       " 'köhne',\n",
       " 'mentoronoma',\n",
       " 'şengşdngşsnşemf',\n",
       " 'betimle',\n",
       " 'aksu',\n",
       " 'canıgüz',\n",
       " 'denetle',\n",
       " 'derim',\n",
       " 'radamel',\n",
       " 'kudurrrrrr',\n",
       " 'sayaç',\n",
       " 'aktaş',\n",
       " 'kurgula',\n",
       " 'taaaaa',\n",
       " 'amuaaa',\n",
       " 'pavey',\n",
       " 'domino',\n",
       " 'ysk',\n",
       " 'sorusorarim',\n",
       " 'stoper',\n",
       " 'bursaspor',\n",
       " 'batık',\n",
       " 'altunkanat',\n",
       " 'ipneyede',\n",
       " 'durgun',\n",
       " 'cehit',\n",
       " 'sezen',\n",
       " 'sımsıkı',\n",
       " 'zekiye',\n",
       " 'pasifizm',\n",
       " 'mn',\n",
       " 'külüstür',\n",
       " 'kuymak',\n",
       " 'rumca',\n",
       " 'harman',\n",
       " 'değerlendir',\n",
       " 'obüs',\n",
       " 'karayolu',\n",
       " 'dink',\n",
       " 'atletico',\n",
       " 'ps',\n",
       " 'çorman',\n",
       " 'anatolialia',\n",
       " 'keedavraa',\n",
       " 'igilelenler',\n",
       " 'volta',\n",
       " 'vesaire',\n",
       " 'mecusi',\n",
       " 'özveren',\n",
       " 'çutur',\n",
       " 'gazetesozcu',\n",
       " 'içersi',\n",
       " 'yaser',\n",
       " 'alfabe',\n",
       " 'çekik',\n",
       " 'siege',\n",
       " 'amele',\n",
       " 'gokbeyinac',\n",
       " 'survivordiyal',\n",
       " 'trend',\n",
       " 'revizyon',\n",
       " 'kurusıkı',\n",
       " 'unibjkli',\n",
       " 'iprencsiniz',\n",
       " 'iğreeeencccc',\n",
       " 'ast',\n",
       " 'çapkın',\n",
       " 'fast',\n",
       " 'b1',\n",
       " 'night',\n",
       " 'ndesöhne',\n",
       " 'drecks',\n",
       " 'birkaç',\n",
       " 'fırkateyn',\n",
       " 'olgunsevtap',\n",
       " 'görece',\n",
       " 'eşdeğer',\n",
       " 'nezit',\n",
       " 'dos',\n",
       " 'zatennn',\n",
       " 'çildirican',\n",
       " 'netenyahu',\n",
       " 'yapmadiniz',\n",
       " 'rework',\n",
       " 'elvis',\n",
       " 'wüqğsjznsldpdnsm',\n",
       " 'netfilizde',\n",
       " 'tombala',\n",
       " 'maksimum',\n",
       " 'denklem',\n",
       " 'orospuuuuu',\n",
       " 'yavşaklarrrrrrrrrrrrrrrrrrrr',\n",
       " 'zoğullari',\n",
       " 'babalariniz',\n",
       " 'yirtacaksin',\n",
       " 'yirtiyon',\n",
       " 'beyazla',\n",
       " 'killarina',\n",
       " 'ıcon',\n",
       " 'napiyon',\n",
       " 'seviyodan',\n",
       " 'tün',\n",
       " 'holigan',\n",
       " 'sikimsonik',\n",
       " 'jailson',\n",
       " 'bizzat',\n",
       " 'filozof',\n",
       " 'tıkla',\n",
       " 'mühlet',\n",
       " 'je',\n",
       " 'ferhat',\n",
       " 'tekila',\n",
       " 'milyonuncu',\n",
       " 'amucamun',\n",
       " 'robin',\n",
       " 'tıpa',\n",
       " 'yumurtla',\n",
       " 'hö',\n",
       " 'şimşek',\n",
       " 'şüphelen',\n",
       " 'gormemissay',\n",
       " 'ap',\n",
       " 'buket',\n",
       " 'cevahir',\n",
       " 'feti',\n",
       " 'sosyolog',\n",
       " 'takvim',\n",
       " 'langırt',\n",
       " 'mymaddqueen',\n",
       " 'bluntzombies',\n",
       " 'çakım',\n",
       " 'madik',\n",
       " 'kimberlyarobe',\n",
       " 'enlemesine',\n",
       " 'ko',\n",
       " 'dedillermi',\n",
       " 'survivorpanoramafinal',\n",
       " 'öncel',\n",
       " 'boylamasına',\n",
       " 'hayvansever',\n",
       " 'küm',\n",
       " 'hindu',\n",
       " 'barisatay',\n",
       " 'enginyurt',\n",
       " 'diret',\n",
       " 'ürk',\n",
       " 'kiskanmişsin',\n",
       " 'surcez',\n",
       " 'çorlu',\n",
       " 'late',\n",
       " 'garibe',\n",
       " 'kayıpköpek',\n",
       " 'fatmagül',\n",
       " 'memeli',\n",
       " 'aşşağlık',\n",
       " 'ıvan',\n",
       " 'ıspartakule',\n",
       " 'radde',\n",
       " 'suskun',\n",
       " 'belin',\n",
       " 'ozlemm',\n",
       " 'sssssst',\n",
       " 'tutututuuth',\n",
       " 'ptt',\n",
       " 'xlxmdkdm',\n",
       " 'yuuuuui',\n",
       " 'sıpa',\n",
       " 'booker',\n",
       " 'pensilvanya',\n",
       " 'kavat',\n",
       " 'sahipkiranrt',\n",
       " 'kaicalamity',\n",
       " 'molnar',\n",
       " 'designerının',\n",
       " 'gazap',\n",
       " 'punch',\n",
       " 'fatihtezcan',\n",
       " 'luann',\n",
       " 'alpayozalan',\n",
       " 'orrrrr',\n",
       " 'ceviriyo',\n",
       " 'ananskerm',\n",
       " 'patiyo',\n",
       " 'lanbu',\n",
       " 'gardiyan',\n",
       " 'kusmuk',\n",
       " 'geviş',\n",
       " 'zorundamısınız',\n",
       " 'multi',\n",
       " 'tasma',\n",
       " 'yapacaaan',\n",
       " 'sefalet',\n",
       " 'gelincik',\n",
       " 'samur',\n",
       " 'furya',\n",
       " 'tezgahtar',\n",
       " 'börtü',\n",
       " 'delircm',\n",
       " 'çokkk',\n",
       " 'ecdat',\n",
       " 'paspas',\n",
       " 'takdirde',\n",
       " 'samanyolu',\n",
       " 'sibersuclar',\n",
       " 'metot',\n",
       " 'tenkit',\n",
       " 'ehli',\n",
       " 'peluş',\n",
       " 'cihangir',\n",
       " 'hap',\n",
       " 'banking',\n",
       " 'sensitive',\n",
       " 'operators',\n",
       " 'tehir',\n",
       " 'spring',\n",
       " 'pound',\n",
       " 'leviackerman',\n",
       " 'fighter',\n",
       " 'ucagi',\n",
       " 'zipladiysa',\n",
       " 'kucaginda',\n",
       " 'beto',\n",
       " 'emirhanvatans',\n",
       " 'braket',\n",
       " 'demirtaş',\n",
       " 'sipa',\n",
       " 'performance',\n",
       " 'academic',\n",
       " 'levye',\n",
       " 'uçagi',\n",
       " 'radar',\n",
       " 'yapcaniz',\n",
       " 'kazıkla',\n",
       " 'ardunio',\n",
       " 'baykemal',\n",
       " 'izan',\n",
       " 'edebi',\n",
       " 'ortaklık',\n",
       " 'eurofighter',\n",
       " 'kapora',\n",
       " 'füzyon',\n",
       " 'aktive',\n",
       " 'alındı',\n",
       " 'uretılmeyen',\n",
       " 'ucagin',\n",
       " 'yakıt',\n",
       " 'beeehhhh',\n",
       " 'parcalanip',\n",
       " 'gele',\n",
       " 'university',\n",
       " 'şmaniz',\n",
       " 'çetinkaya',\n",
       " 'hicetikdegill',\n",
       " 'flor',\n",
       " 'tiple',\n",
       " 'saglamm',\n",
       " 'elchavo',\n",
       " 'bağlıyoki',\n",
       " 'alis',\n",
       " 'hanif',\n",
       " 'ripper',\n",
       " 'hayvanbakım',\n",
       " 'pethayvan',\n",
       " 'kulübe',\n",
       " 'degilmisin',\n",
       " 'yıprat',\n",
       " 'kimbilir',\n",
       " 'vajina',\n",
       " 'feragat',\n",
       " 'tanimamiza',\n",
       " 'olacagimizdan',\n",
       " 'süphan',\n",
       " 'akören',\n",
       " 'konuşlan',\n",
       " 'wingman',\n",
       " 'lokal',\n",
       " 'elizabeth',\n",
       " 'queen',\n",
       " 'aktrolleri',\n",
       " 'shipliyorum',\n",
       " 'metodbox',\n",
       " 'anız',\n",
       " 'baştürk',\n",
       " 'kadriye',\n",
       " 'seferi',\n",
       " 'andak',\n",
       " 'fotokopi',\n",
       " 'tahminen',\n",
       " 'tarife',\n",
       " 'gidiyeahh',\n",
       " 'bej',\n",
       " 'ehliyet',\n",
       " 'elma',\n",
       " 'konserve',\n",
       " 'asabi',\n",
       " 'napıcaz',\n",
       " 'yumrukla',\n",
       " 'arapalarina',\n",
       " 'jilet',\n",
       " 'influnzır',\n",
       " 'rönesans',\n",
       " 'bıktır',\n",
       " 'yapmis',\n",
       " 'ceceli',\n",
       " 'temkin',\n",
       " 'biricik',\n",
       " 'ninasayers',\n",
       " 'anilmamasi',\n",
       " 'karele',\n",
       " 'ndndjdjd',\n",
       " 'beinsport',\n",
       " 'operatorunuz',\n",
       " 'baha',\n",
       " 'abbilidi',\n",
       " 'cowboys',\n",
       " 'anime',\n",
       " 'kesinlikle',\n",
       " 'barismuratyagci',\n",
       " 'jdlfkdşslxl',\n",
       " 'antidepresan',\n",
       " 'minnesota',\n",
       " 'bıragdım',\n",
       " 'konuşmicakmı',\n",
       " 'blokaj',\n",
       " 'amsmssm',\n",
       " 'müsabaka',\n",
       " 'fütur',\n",
       " 'nahoş',\n",
       " 'sıvış',\n",
       " 'diaby',\n",
       " 'gigabaytınıza',\n",
       " 'anadolu',\n",
       " 'jeneratör',\n",
       " 'boğuş',\n",
       " 'sele',\n",
       " 'süyüm',\n",
       " 'paylaşmayınözellikle',\n",
       " 'dödndmdlglbgkvj',\n",
       " 'kurucan',\n",
       " 'psikoseksüel',\n",
       " 'görmüymsnuz',\n",
       " 'kurula',\n",
       " 'tınla',\n",
       " 'hamak',\n",
       " 'teori',\n",
       " 'erişemicekleretiketleryer',\n",
       " 'başladımevet',\n",
       " 'küsur',\n",
       " 'döşücen',\n",
       " 'ohhhhh',\n",
       " 'kimsinnnnn',\n",
       " 'sahur',\n",
       " 'emfkkmfndkdlfkl',\n",
       " 'vejetaryen',\n",
       " 'terane',\n",
       " 'lgkfldjshgk',\n",
       " 'çayeli',\n",
       " 'mdmdmdm',\n",
       " 'halihazır',\n",
       " 'berkayout',\n",
       " 'universe',\n",
       " 'dingin',\n",
       " 'offstream',\n",
       " 'ekşi',\n",
       " 'çikarttirmak',\n",
       " 'ahahhahaha',\n",
       " 'fixtürde',\n",
       " 'rahatsızlan',\n",
       " 'setik',\n",
       " 'ortadakarın',\n",
       " 'gezsonra',\n",
       " 'trendyol',\n",
       " 'bebo',\n",
       " 'tenge',\n",
       " 'lagann',\n",
       " 'firar',\n",
       " 'aciktan',\n",
       " 'medet',\n",
       " 'unep',\n",
       " 'beştaş',\n",
       " 'başkanvekili',\n",
       " 'arz',\n",
       " 'ozturksemih',\n",
       " 'cezanaldırılman',\n",
       " 'tescil',\n",
       " 'ıslan',\n",
       " 'dini',\n",
       " 'eşşşşeğin',\n",
       " 'yular',\n",
       " 'deş',\n",
       " 'sukut',\n",
       " 'dökük',\n",
       " 'düşüm',\n",
       " 'palavracagla',\n",
       " 'bagladi',\n",
       " 'yemen',\n",
       " 'favlamis',\n",
       " 'banal',\n",
       " 'aciklayacagina',\n",
       " 'icindenhayat',\n",
       " 'fasıl',\n",
       " 'djsakdndknf',\n",
       " 'ersan',\n",
       " 'favlamamis',\n",
       " 'rogue',\n",
       " 'ahmettdonmez',\n",
       " 'nick',\n",
       " 'ekremimamoglu',\n",
       " 'uzantı',\n",
       " 'beyaztv',\n",
       " 'türkeş',\n",
       " 'merhum',\n",
       " 'ihtilal',\n",
       " 'gözbebeği',\n",
       " 'izlem',\n",
       " 'ndiaye',\n",
       " 'ıöhh',\n",
       " 'yildirima',\n",
       " 'azizfenerbahçe',\n",
       " 'sahtiyan',\n",
       " 'flsmlsşd',\n",
       " 'çizme',\n",
       " 'revan',\n",
       " 'alemdar',\n",
       " 'polat',\n",
       " 'sitem',\n",
       " 'udilarau',\n",
       " 'dehşet',\n",
       " 'ağar',\n",
       " 'ayyldz',\n",
       " 'bayyanlış',\n",
       " 'elense',\n",
       " 'mdndksksks',\n",
       " 'emsal',\n",
       " 'amınakodumunun',\n",
       " 'punto',\n",
       " 'manşet',\n",
       " 'konusmayin',\n",
       " 'gönderi',\n",
       " 'dusurdugun',\n",
       " 'suluk',\n",
       " 'lapis',\n",
       " 'unstanliyorum',\n",
       " 'heriffff',\n",
       " 'escort',\n",
       " 'durablr',\n",
       " 'tiwitin',\n",
       " 'açıkkk',\n",
       " 'queens',\n",
       " 'hayın',\n",
       " 'purudıns',\n",
       " 'beyza',\n",
       " 'salihoglulatif',\n",
       " 'yergi',\n",
       " 'kasiyer',\n",
       " 'bilinçlen',\n",
       " 'tefanikitap',\n",
       " 'ginny',\n",
       " 'seyahat',\n",
       " 'çalışıyorama',\n",
       " 'ediyormuşama',\n",
       " 'tcdd',\n",
       " 'harry',\n",
       " 'hissettimson',\n",
       " 'müdahil',\n",
       " 'oldukmahkemelere',\n",
       " 'gittikhala',\n",
       " 'filtrele',\n",
       " 'sallamasıki',\n",
       " 'digiturk',\n",
       " 'zamanla',\n",
       " 'çarşıpazarda',\n",
       " 'dalalet',\n",
       " 'lim',\n",
       " 'ahbap',\n",
       " 'hakiki',\n",
       " 'sokusturmuslar',\n",
       " 'hoşgör',\n",
       " 'öncele',\n",
       " 'çulluk',\n",
       " 'guru',\n",
       " 'kamuflaj',\n",
       " 'kayınpeder',\n",
       " 'kızılderili',\n",
       " 'nair',\n",
       " 'nergis',\n",
       " 'seydişehir',\n",
       " 'uzunluk',\n",
       " 'tantuni',\n",
       " 'barbekü',\n",
       " 'biyolojitıp',\n",
       " 'vişne',\n",
       " 'tor',\n",
       " 'melbourne',\n",
       " 'tutuk',\n",
       " 'kimseyeoyle',\n",
       " 'salladitahrik',\n",
       " 'disari',\n",
       " 'igrencliklerinizi',\n",
       " 'hızlı',\n",
       " 'çevik',\n",
       " 'olmasıkuyruk',\n",
       " 'benzemez',\n",
       " 'laponca',\n",
       " 'loading',\n",
       " 'donald',\n",
       " 'formül',\n",
       " 'metilasyon',\n",
       " 'sensör',\n",
       " 'sezer',\n",
       " 'labrador',\n",
       " 'pembe',\n",
       " 'nelortileridir',\n",
       " 'diyebunlar',\n",
       " 'yeliz',\n",
       " 'bağlam',\n",
       " 'makat',\n",
       " 'bagirisanlar',\n",
       " 'efelik',\n",
       " 'jandarmapolis',\n",
       " 'basladiyarin',\n",
       " 'otogar',\n",
       " 'çivi',\n",
       " 'yavrucağız',\n",
       " 'anlayacaksiniz',\n",
       " 'ortay',\n",
       " 'biden',\n",
       " 'midyeci',\n",
       " 'ölçüm',\n",
       " 'adale',\n",
       " 'edmond',\n",
       " 'hastings',\n",
       " 'ucagini',\n",
       " 'gik',\n",
       " 'çizer',\n",
       " 'istikbal',\n",
       " 'duyabilirizunutmayınız',\n",
       " 'sismik',\n",
       " ...]"
      ]
     },
     "execution_count": 38,
     "metadata": {},
     "output_type": "execute_result"
    }
   ],
   "source": [
    "print(len(less_freq))\n",
    "less_freq"
   ]
  },
  {
   "cell_type": "code",
   "execution_count": 39,
   "id": "9e91b017",
   "metadata": {},
   "outputs": [
    {
     "data": {
      "text/plain": [
       "0                        doğa ağzımıza sıçsa hakkı var\n",
       "1    anne bir sanatçıdır, en güzel eseri de yavrusu...\n",
       "2     ibrahimin oğlunu koruyan tanrı’ya da ben sokayım\n",
       "3          köpeğim suratına sıçsın senin namussuz karı\n",
       "4                          ben söğüşledim, birazda sen\n",
       "Name: Paylaşım, dtype: object"
      ]
     },
     "execution_count": 39,
     "metadata": {},
     "output_type": "execute_result"
    }
   ],
   "source": [
    "data['Paylaşım'] = data['Paylaşım'].apply(lambda x: \" \".join(x for x in x.split() if x not in less_freq))\n",
    "data['Paylaşım'].head(5)"
   ]
  },
  {
   "cell_type": "markdown",
   "id": "652e30f4",
   "metadata": {},
   "source": [
    "***\n",
    "***\n",
    "***"
   ]
  },
  {
   "cell_type": "markdown",
   "id": "5042a640",
   "metadata": {},
   "source": [
    "# <font color='darkgreen'>VERİ GÖRSELLEŞTİRME </font>"
   ]
  },
  {
   "cell_type": "markdown",
   "id": "58d0c8c2",
   "metadata": {},
   "source": [
    "***\n",
    "***\n",
    "***"
   ]
  },
  {
   "cell_type": "markdown",
   "id": "3d424aad",
   "metadata": {},
   "source": [
    "###  Pozitif Negatif Dağılımı"
   ]
  },
  {
   "cell_type": "code",
   "execution_count": 40,
   "id": "9630f72d",
   "metadata": {},
   "outputs": [
    {
     "data": {
      "image/png": "[encoded data removed]",
      "text/plain": [
       "<Figure size 640x480 with 1 Axes>"
      ]
     },
     "metadata": {},
     "output_type": "display_data"
    }
   ],
   "source": [
    "import matplotlib.pyplot as plt\n",
    "\n",
    "comments = data['Paylaşım']\n",
    "negative_list = data[data['Tip'] == \"Negatif\"]\n",
    "positive_list = data[data['Tip'] == \"Pozitif\"]\n",
    "\n",
    "positive = int(100*len(positive_list)/len(comments))\n",
    "negative = int(100*len(negative_list)/len(comments))\n",
    "\n",
    "labels = ['Positive ['+str(positive)+'%]','Negative ['+str(negative)+'%]']\n",
    "sizes = [positive, negative]\n",
    "colors = ['yellowgreen', 'blue']\n",
    "patches, texts = plt.pie(sizes,colors=colors, startangle=90, radius=50)\n",
    "plt.style.use('default')\n",
    "plt.legend(labels)\n",
    "plt.title(\"Sentiment Analysis Result, Neg Value Count : 5000 - Poz Value Count : 6111\")\n",
    "plt.axis(\"equal\")\n",
    "plt.show()\n"
   ]
  },
  {
   "cell_type": "markdown",
   "id": "9b5c1931",
   "metadata": {},
   "source": [
    "### N-Gramların Görselleştirilmesi"
   ]
  },
  {
   "cell_type": "markdown",
   "id": "c610a6e1",
   "metadata": {},
   "source": [
    "#### BİGRAMLAR"
   ]
  },
  {
   "cell_type": "code",
   "execution_count": 41,
   "id": "32ab0303",
   "metadata": {},
   "outputs": [],
   "source": [
    "from sklearn.feature_extraction.text import CountVectorizer\n",
    "def get_top_n_bigram(corpus, n=None):\n",
    "    vec = CountVectorizer(ngram_range=(2,2)).fit(corpus)\n",
    "    bag_of_words = vec.transform(corpus)\n",
    "    sum_words = bag_of_words.sum(axis=0)\n",
    "    words_freq = [(word, sum_words[0, idx]) for word, idx in vec.vocabulary_.items()]\n",
    "    words_freq =sorted(words_freq, key = lambda x: x[1], reverse=True)\n",
    "    return words_freq[:n]\n",
    "\n",
    "common_words2 = get_top_n_bigram(X, 30)"
   ]
  },
  {
   "cell_type": "code",
   "execution_count": 42,
   "id": "14ed5870",
   "metadata": {},
   "outputs": [
    {
     "data": {
      "text/plain": [
       "<AxesSubplot:title={'center':'Bar chart of Bigrams Frequency'}, xlabel='Bigram Words', ylabel='Count'>"
      ]
     },
     "execution_count": 42,
     "metadata": {},
     "output_type": "execute_result"
    },
    {
     "data": {
      "image/png": "[encoded data removed]",
      "text/plain": [
       "<Figure size 800x600 with 1 Axes>"
      ]
     },
     "metadata": {},
     "output_type": "display_data"
    }
   ],
   "source": [
    "top_bigram = pd.DataFrame(common_words2, columns=['Paylaşım', \"Count\"])\n",
    "top_bigram.groupby('Paylaşım').sum()['Count'].sort_values(ascending=False).plot(\n",
    "    kind='bar',\n",
    "    figsize=(8,6),\n",
    "    xlabel = \"Bigram Words\",\n",
    "    ylabel = \"Count\",\n",
    "    title = \"Bar chart of Bigrams Frequency\")"
   ]
  },
  {
   "cell_type": "markdown",
   "id": "22216d64",
   "metadata": {},
   "source": [
    "####  TRİGRAMLAR"
   ]
  },
  {
   "cell_type": "code",
   "execution_count": 43,
   "id": "3353358b",
   "metadata": {},
   "outputs": [],
   "source": [
    "def get_top_n_trigram(data, n=None):\n",
    "    vec = CountVectorizer(ngram_range=(3, 3)).fit(data)\n",
    "    bag_of_words = vec.transform(data)\n",
    "    sum_words = bag_of_words.sum(axis=0)\n",
    "    words_freq = [(word, sum_words[0, idx]) for word, idx in vec.vocabulary_.items()]\n",
    "    words_freq =sorted(words_freq, key = lambda x: x[1], reverse=True)\n",
    "    return words_freq[:n]\n",
    "\n",
    "common_words3 = get_top_n_trigram(X, 30)\n",
    "top_trigram = pd.DataFrame(common_words3, columns = ['Paylaşım' , 'Count'])"
   ]
  },
  {
   "cell_type": "code",
   "execution_count": 44,
   "id": "f45149d8",
   "metadata": {},
   "outputs": [
    {
     "data": {
      "text/plain": [
       "<AxesSubplot:title={'center':'Bar chart of Trigrams Frequency'}, xlabel='Trigram Words', ylabel='Count'>"
      ]
     },
     "execution_count": 44,
     "metadata": {},
     "output_type": "execute_result"
    },
    {
     "data": {
      "image/png": "[encoded data removed]",
      "text/plain": [
       "<Figure size 800x600 with 1 Axes>"
      ]
     },
     "metadata": {},
     "output_type": "display_data"
    }
   ],
   "source": [
    "top_trigram.groupby('Paylaşım').sum()['Count'].sort_values(ascending=False).plot(\n",
    "    kind='bar',\n",
    "    figsize=(8,6),\n",
    "    xlabel = \"Trigram Words\",\n",
    "    ylabel = \"Count\",\n",
    "    title = \"Bar chart of Trigrams Frequency\")"
   ]
  },
  {
   "cell_type": "markdown",
   "id": "068d962d",
   "metadata": {},
   "source": [
    "***\n",
    "***\n",
    "***"
   ]
  },
  {
   "cell_type": "markdown",
   "id": "602ce8b7",
   "metadata": {},
   "source": [
    "# <font color='darkgreen'>MODELLEME AŞAMASI </font>"
   ]
  },
  {
   "cell_type": "markdown",
   "id": "7f510589",
   "metadata": {},
   "source": [
    "***\n",
    "***\n",
    "***"
   ]
  },
  {
   "cell_type": "code",
   "execution_count": 45,
   "id": "4a9ea685",
   "metadata": {},
   "outputs": [],
   "source": [
    "from sklearn.feature_extraction.text import TfidfTransformer\n",
    "from sklearn.feature_extraction.text import CountVectorizer\n",
    "from sklearn.feature_extraction.text import TfidfVectorizer\n",
    "from sklearn.metrics import accuracy_score"
   ]
  },
  {
   "cell_type": "code",
   "execution_count": 46,
   "id": "cc26c0de",
   "metadata": {},
   "outputs": [
    {
     "name": "stderr",
     "output_type": "stream",
     "text": [
      "C:\\Users\\emredgr\\anaconda3\\lib\\site-packages\\sklearn\\utils\\deprecation.py:87: FutureWarning: Function get_feature_names is deprecated; get_feature_names is deprecated in 1.0 and will be removed in 1.2. Please use get_feature_names_out instead.\n",
      "  warnings.warn(msg, category=FutureWarning)\n"
     ]
    }
   ],
   "source": [
    "\n",
    "Tfidf_Vector = TfidfVectorizer(max_features=3000) \n",
    "\n",
    "Tfidf_Matrix = Tfidf_Vector.fit_transform(X)\n",
    "\n",
    "Xl = Tfidf_Matrix.toarray()\n",
    "\n",
    "features = Tfidf_Vector.get_feature_names()"
   ]
  },
  {
   "cell_type": "code",
   "execution_count": 47,
   "id": "8d25ae90",
   "metadata": {},
   "outputs": [
    {
     "data": {
      "text/plain": [
       "(11111, 3000)"
      ]
     },
     "execution_count": 47,
     "metadata": {},
     "output_type": "execute_result"
    }
   ],
   "source": [
    "Xl.shape"
   ]
  },
  {
   "cell_type": "code",
   "execution_count": 48,
   "id": "16ff1761",
   "metadata": {},
   "outputs": [
    {
     "data": {
      "text/plain": [
       "(11111,)"
      ]
     },
     "execution_count": 48,
     "metadata": {},
     "output_type": "execute_result"
    }
   ],
   "source": [
    "y.shape"
   ]
  },
  {
   "cell_type": "code",
   "execution_count": 49,
   "id": "48a46fbd",
   "metadata": {},
   "outputs": [],
   "source": [
    "from sklearn.model_selection import train_test_split\n",
    "\n",
    "x_train, x_test, y_train, y_test = train_test_split(Xl, y, test_size=0.25, random_state=42)"
   ]
  },
  {
   "cell_type": "markdown",
   "id": "b2402370",
   "metadata": {},
   "source": [
    "##  <font color=\"darkorange\"> XGBOOST Classifier"
   ]
  },
  {
   "cell_type": "code",
   "execution_count": 51,
   "id": "795cbcf0",
   "metadata": {},
   "outputs": [
    {
     "name": "stdout",
     "output_type": "stream",
     "text": [
      "[10:05:46] WARNING: ..\\src\\learner.cc:1115: Starting in XGBoost 1.3.0, the default evaluation metric used with the objective 'binary:logistic' was changed from 'error' to 'logloss'. Explicitly set eval_metric if you'd like to restore the old behavior.\n",
      "Xgboost classifier: 83.72930165586753\n"
     ]
    }
   ],
   "source": [
    "\n",
    "\n",
    "from xgboost import XGBClassifier\n",
    "\n",
    "model = XGBClassifier()\n",
    "\n",
    "model.fit(x_train, y_train)\n",
    "\n",
    "y_pred = model.predict(x_test)\n",
    "\n",
    "accuracy = accuracy_score(y_test, y_pred)\n",
    "print(\"Xgboost classifier: \" + str(100*accuracy))\n"
   ]
  },
  {
   "cell_type": "code",
   "execution_count": 52,
   "id": "3bf32ba9",
   "metadata": {},
   "outputs": [],
   "source": [
    "from sklearn.metrics import classification_report\n",
    "report=classification_report(y_true=y_test, y_pred=y_pred)\n"
   ]
  },
  {
   "cell_type": "code",
   "execution_count": 53,
   "id": "e0529cf2",
   "metadata": {},
   "outputs": [
    {
     "name": "stdout",
     "output_type": "stream",
     "text": [
      "              precision    recall  f1-score   support\n",
      "\n",
      "     Negatif       0.90      0.73      0.80      1260\n",
      "     Pozitif       0.80      0.93      0.86      1518\n",
      "\n",
      "    accuracy                           0.84      2778\n",
      "   macro avg       0.85      0.83      0.83      2778\n",
      "weighted avg       0.85      0.84      0.83      2778\n",
      "\n"
     ]
    }
   ],
   "source": [
    "print(report)"
   ]
  },
  {
   "cell_type": "code",
   "execution_count": 54,
   "id": "cba60137",
   "metadata": {},
   "outputs": [
    {
     "name": "stdout",
     "output_type": "stream",
     "text": [
      "True Positives:  1411\n",
      "False Positives:  345\n",
      "True Negatives:  915\n",
      "False Negatives:  107\n"
     ]
    }
   ],
   "source": [
    "\n",
    "from sklearn.metrics import confusion_matrix\n",
    "cm = confusion_matrix(y_pred=y_pred,y_true=y_test)\n",
    "print('True Positives: ',cm[1,1])\n",
    "print('False Positives: ',cm[0,1])\n",
    "print('True Negatives: ',cm[0,0])\n",
    "print('False Negatives: ',cm[1,0])"
   ]
  },
  {
   "cell_type": "code",
   "execution_count": 55,
   "id": "425d2157",
   "metadata": {},
   "outputs": [],
   "source": [
    "import seaborn as sns"
   ]
  },
  {
   "cell_type": "code",
   "execution_count": 56,
   "id": "d9d03767",
   "metadata": {},
   "outputs": [
    {
     "data": {
      "text/plain": [
       "<AxesSubplot:>"
      ]
     },
     "execution_count": 56,
     "metadata": {},
     "output_type": "execute_result"
    },
    {
     "data": {
      "image/png": "[encoded data removed]",
      "text/plain": [
       "<Figure size 640x480 with 2 Axes>"
      ]
     },
     "metadata": {},
     "output_type": "display_data"
    }
   ],
   "source": [
    "from seaborn import heatmap\n",
    "group_names = [\"True Neg\",\"False Pos\",\"False Neg\",\"True Pos\"]\n",
    "group_counts = [\"{0:0.0f}\".format(value) for value in\n",
    "                cm.flatten()]\n",
    "group_percentages = [\"{0:.2%}\".format(value) for value in\n",
    "                     cm.flatten()/np.sum(cm)]\n",
    "labels = [f\"{v1}\\n{v2}\\n{v3}\" for v1, v2, v3 in\n",
    "          zip(group_names,group_counts,group_percentages)]\n",
    "labels = np.asarray(labels).reshape(2,2)\n",
    "sns.heatmap(cm, annot=labels, fmt=\"\", cmap='Blues')"
   ]
  },
  {
   "cell_type": "markdown",
   "id": "caf98c8a",
   "metadata": {},
   "source": [
    "# <font color=\"darkorange\">  SVM Classifier"
   ]
  },
  {
   "cell_type": "code",
   "execution_count": 57,
   "id": "550f22de",
   "metadata": {},
   "outputs": [
    {
     "name": "stdout",
     "output_type": "stream",
     "text": [
      "SVM classifier: 85.78113750899928\n"
     ]
    }
   ],
   "source": [
    "from sklearn.svm import SVC\n",
    "svclassifier = SVC(kernel='linear')\n",
    "svclassifier.fit(x_train, y_train)\n",
    "\n",
    "y_pred = svclassifier.predict(x_test)\n",
    "\n",
    "accuracy = accuracy_score(y_test, y_pred)\n",
    "print(\"SVM classifier: \" + str(100*accuracy))"
   ]
  },
  {
   "cell_type": "code",
   "execution_count": 58,
   "id": "53597de7",
   "metadata": {},
   "outputs": [
    {
     "name": "stdout",
     "output_type": "stream",
     "text": [
      "              precision    recall  f1-score   support\n",
      "\n",
      "     Negatif       0.89      0.79      0.83      1260\n",
      "     Pozitif       0.84      0.92      0.88      1518\n",
      "\n",
      "    accuracy                           0.86      2778\n",
      "   macro avg       0.86      0.85      0.85      2778\n",
      "weighted avg       0.86      0.86      0.86      2778\n",
      "\n"
     ]
    }
   ],
   "source": [
    "from sklearn.metrics import classification_report\n",
    "print(classification_report(y_true=y_test, y_pred=y_pred))\n"
   ]
  },
  {
   "cell_type": "code",
   "execution_count": 59,
   "id": "8a73b70e",
   "metadata": {},
   "outputs": [
    {
     "name": "stdout",
     "output_type": "stream",
     "text": [
      "True Positives:  1391\n",
      "False Positives:  268\n",
      "True Negatives:  992\n",
      "False Negatives:  127\n"
     ]
    }
   ],
   "source": [
    "\n",
    "from sklearn.metrics import confusion_matrix\n",
    "cm = confusion_matrix(y_pred=y_pred,y_true=y_test)\n",
    "print('True Positives: ',cm[1,1])\n",
    "print('False Positives: ',cm[0,1])\n",
    "print('True Negatives: ',cm[0,0])\n",
    "print('False Negatives: ',cm[1,0])"
   ]
  },
  {
   "cell_type": "code",
   "execution_count": 60,
   "id": "8588608f",
   "metadata": {},
   "outputs": [
    {
     "data": {
      "text/plain": [
       "<AxesSubplot:>"
      ]
     },
     "execution_count": 60,
     "metadata": {},
     "output_type": "execute_result"
    },
    {
     "data": {
      "image/png": "[encoded data removed]",
      "text/plain": [
       "<Figure size 640x480 with 2 Axes>"
      ]
     },
     "metadata": {},
     "output_type": "display_data"
    }
   ],
   "source": [
    "from seaborn import heatmap\n",
    "group_names = [\"True Neg\",\"False Pos\",\"False Neg\",\"True Pos\"]\n",
    "group_counts = [\"{0:0.0f}\".format(value) for value in\n",
    "                cm.flatten()]\n",
    "group_percentages = [\"{0:.2%}\".format(value) for value in\n",
    "                     cm.flatten()/np.sum(cm)]\n",
    "labels = [f\"{v1}\\n{v2}\\n{v3}\" for v1, v2, v3 in\n",
    "          zip(group_names,group_counts,group_percentages)]\n",
    "labels = np.asarray(labels).reshape(2,2)\n",
    "sns.heatmap(cm, annot=labels, fmt=\"\", cmap='Blues')"
   ]
  }
 ],
 "metadata": {
  "kernelspec": {
   "display_name": "Python 3 (ipykernel)",
   "language": "python",
   "name": "python3"
  },
  "language_info": {
   "codemirror_mode": {
    "name": "ipython",
    "version": 3
   },
   "file_extension": ".py",
   "mimetype": "text/x-python",
   "name": "python",
   "nbconvert_exporter": "python",
   "pygments_lexer": "ipython3",
   "version": "3.8.8"
  }
 },
 "nbformat": 4,
 "nbformat_minor": 5
}
